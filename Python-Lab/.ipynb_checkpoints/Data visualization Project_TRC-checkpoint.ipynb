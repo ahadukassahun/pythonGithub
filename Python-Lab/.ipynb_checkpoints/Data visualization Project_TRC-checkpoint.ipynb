{
  "cells": [
    {
      "cell_type": "code",
      "source": [
        "from google.colab import drive\n",
        "drive.mount('/content/drive')"
      ],
      "metadata": {
        "colab": {
          "base_uri": "https://localhost:8080/"
        },
        "id": "kPwkJbe_Oc1o",
        "outputId": "a052b202-0ef5-47fe-aefb-8ccae593fc8f"
      },
      "id": "kPwkJbe_Oc1o",
      "execution_count": 21,
      "outputs": [
        {
          "output_type": "stream",
          "name": "stdout",
          "text": [
            "Drive already mounted at /content/drive; to attempt to forcibly remount, call drive.mount(\"/content/drive\", force_remount=True).\n"
          ]
        }
      ]
    },
    {
      "cell_type": "code",
      "execution_count": 22,
      "id": "7524fd1b-cd0e-4afc-8603-755b3886f64d",
      "metadata": {
        "colab": {
          "base_uri": "https://localhost:8080/"
        },
        "id": "7524fd1b-cd0e-4afc-8603-755b3886f64d",
        "outputId": "7e0dbff8-5100-4d81-cf3c-d02e009e5d1f"
      },
      "outputs": [
        {
          "output_type": "stream",
          "name": "stdout",
          "text": [
            "Selected sheets merged and saved to /content/drive/MyDrive/merged_pedi_adult_ER_output.xlsx\n"
          ]
        }
      ],
      "source": [
        "import pandas as pd\n",
        "import numpy as np\n",
        "import matplotlib.pyplot as plt\n",
        "import seaborn as sns\n",
        "from sklearn.model_selection import train_test_split\n",
        "from sklearn.ensemble import RandomForestRegressor\n",
        "from sklearn.metrics import mean_absolute_error, mean_squared_error, r2_score\n",
        "\n",
        "# Path to the Excel file\n",
        "file_path = '/content/drive/MyDrive/combine_trauma_related_cases_at_adult_and_pedi_emergency_units_from.xlsx'\n",
        "# List of sheet names to merge\n",
        "sheets_to_merge = [\"2014 Pedi ER\", \"2014 adult ER\", \"2015 pedi ER\", \"2015 adult ER\", \"2016 pedi ER\", \"2016 adult ER\", \"2017 ped ER\", \"2017 adult ER\"]\n",
        "# Load only the selected sheets into data frames\n",
        "selected_sheets = {sheet: pd.read_excel(file_path, sheet_name=sheet) for sheet in sheets_to_merge}\n",
        "# Merge the selected sheets into one data frame\n",
        "merged_data = pd.concat(selected_sheets.values(), ignore_index=True)\n",
        "# Save the merged data frame to a new Excel file\n",
        "output_path = '/content/drive/MyDrive/merged_pedi_adult_ER_output.xlsx'\n",
        "merged_data.to_excel(output_path, index=False)\n",
        "print(f\"Selected sheets merged and saved to {output_path}\")"
      ]
    },
    {
      "cell_type": "code",
      "execution_count": 23,
      "id": "fcdea64f-fdff-416e-b742-d7b8144aeeae",
      "metadata": {
        "colab": {
          "base_uri": "https://localhost:8080/"
        },
        "id": "fcdea64f-fdff-416e-b742-d7b8144aeeae",
        "outputId": "55c5f202-f303-4cd4-c86d-88171c3d3de9"
      },
      "outputs": [
        {
          "output_type": "stream",
          "name": "stdout",
          "text": [
            "Dataset Shape: (6062, 22)\n",
            "\n",
            "Column Names:\n",
            " Index(['Disposal Date', 'Visit Date', 'Age', 'Gender', 'Region', 'Subcity',\n",
            "       'ER Name', 'Triage color', 'Visit type',\n",
            "       'Arrival Diagnosis (ESV-ICD-11)', 'Scope', 'Waiting Time', 'keep',\n",
            "       'Date & Time Of Kept', 'LOS', 'Discharge Date',\n",
            "       'Disposition Diagnosis (ESV-ICD-11)', 'Disposal Outcome', 'Reason',\n",
            "       'Physician name', 'View', 'Patient full name'],\n",
            "      dtype='object')\n",
            "\n",
            "Sample Data:\n",
            "          Disposal Date           Visit Date      Age Gender       Region  \\\n",
            "0  20-08-2014 12:00 AM   20-08-2014 2:58 PM  14years   Male  Addis Ababa   \n",
            "1   21-12-2014 1:01 PM   21-12-2014 1:42 PM  12years   Male  Addis Ababa   \n",
            "2   15-02-2014 3:39 PM   15-02-2014 4:27 PM   3years   Male  Addis Ababa   \n",
            "3   28-05-2014 9:20 PM  28-05-2014 10:24 PM   8years   Male  Addis Ababa   \n",
            "4  26-01-2014 12:00 AM   26-01-2014 4:54 PM   3years   Male  Addis Ababa   \n",
            "\n",
            "            Subcity              ER Name Triage color Visit type  \\\n",
            "0  Nifas Silk-Lafto  Pedi Emergency Unit          NaN        New   \n",
            "1           Gullele  Pedi Emergency Unit          NaN        New   \n",
            "2             Arada  Pedi Emergency Unit          NaN  Follow-up   \n",
            "3              Bole  Pedi Emergency Unit          NaN        New   \n",
            "4      Akaky Kaliti  Pedi Emergency Unit          NaN  Follow-up   \n",
            "\n",
            "                      Arrival Diagnosis (ESV-ICD-11)  ... keep  \\\n",
            "0                                    Closed fracture  ...  NaN   \n",
            "1                                    Closed fracture  ...  NaN   \n",
            "2        Fracture (Fracture at wrist and hand level)  ...  NaN   \n",
            "3  Other specified injury, poisoning or certain o...  ...  NaN   \n",
            "4         Abdomen (Injury of intra-abdominal organs)  ...  NaN   \n",
            "\n",
            "  Date & Time Of Kept  LOS Discharge Date Disposition Diagnosis (ESV-ICD-11)  \\\n",
            "0                 NaN  NaN            NaN                                NaN   \n",
            "1                 NaN  NaN            NaN                                NaN   \n",
            "2                 NaN  NaN            NaN                                NaN   \n",
            "3                 NaN  NaN            NaN                                NaN   \n",
            "4                 NaN  NaN            NaN                                NaN   \n",
            "\n",
            "  Disposal Outcome Reason Physician name View Patient full name  \n",
            "0              NaN    NaN            NaN  NaN               NaN  \n",
            "1              NaN    NaN            NaN  NaN               NaN  \n",
            "2              NaN    NaN            NaN  NaN               NaN  \n",
            "3              NaN    NaN            NaN  NaN               NaN  \n",
            "4              NaN    NaN            NaN  NaN               NaN  \n",
            "\n",
            "[5 rows x 22 columns]\n"
          ]
        }
      ],
      "source": [
        "# Load the dataset\n",
        "data_path = '/content/drive/MyDrive/merged_pedi_adult_ER_output.xlsx'\n",
        "data = pd.read_excel(data_path, sheet_name='Sheet1')\n",
        "\n",
        "# 1. Data Overview\n",
        "print(\"Dataset Shape:\", data.shape)\n",
        "print(\"\\nColumn Names:\\n\", data.columns)\n",
        "print(\"\\nSample Data:\\n\", data.head())"
      ]
    },
    {
      "cell_type": "code",
      "execution_count": 24,
      "id": "54f92358-d310-4ef8-87e7-53baeca5bb08",
      "metadata": {
        "colab": {
          "base_uri": "https://localhost:8080/"
        },
        "id": "54f92358-d310-4ef8-87e7-53baeca5bb08",
        "outputId": "59e7d19a-ebe1-4e7c-a475-631f1d2e9983"
      },
      "outputs": [
        {
          "output_type": "stream",
          "name": "stdout",
          "text": [
            "\n",
            "Missing Values Per Column:\n",
            " Disposal Date                            0\n",
            "Visit Date                               0\n",
            "Age                                     30\n",
            "Gender                                   0\n",
            "Region                                  18\n",
            "Subcity                                 18\n",
            "ER Name                                  0\n",
            "Triage color                          2025\n",
            "Visit type                               0\n",
            "Arrival Diagnosis (ESV-ICD-11)           0\n",
            "Scope                                    0\n",
            "Waiting Time                             0\n",
            "keep                                  5194\n",
            "Date & Time Of Kept                   5194\n",
            "LOS                                   5719\n",
            "Discharge Date                        5123\n",
            "Disposition Diagnosis (ESV-ICD-11)    6018\n",
            "Disposal Outcome                      6018\n",
            "Reason                                6018\n",
            "Physician name                        5612\n",
            "View                                  5612\n",
            "Patient full name                     5906\n",
            "dtype: int64\n"
          ]
        }
      ],
      "source": [
        "# 2. Missing Value Analysis\n",
        "missing_values = data.isnull().sum()\n",
        "print(\"\\nMissing Values Per Column:\\n\", missing_values)"
      ]
    },
    {
      "cell_type": "code",
      "source": [
        "# 3. Drop unnecessary columns or rows with excessive missing values\n",
        "data = data.drop(columns=['keep', 'Date & Time Of Kept', 'Reason', 'Physician name', 'View', 'Patient full name', 'Scope', 'Disposition Diagnosis (ESV-ICD-11)', 'LOS', 'Discharge Date'])\n",
        "data =data.dropna(subset=['Region', 'Subcity'])\n",
        "print(data.columns)"
      ],
      "metadata": {
        "colab": {
          "base_uri": "https://localhost:8080/"
        },
        "id": "7_j4eyezTujf",
        "outputId": "789b583e-f15f-484d-e688-8f64981aa0c9"
      },
      "id": "7_j4eyezTujf",
      "execution_count": 25,
      "outputs": [
        {
          "output_type": "stream",
          "name": "stdout",
          "text": [
            "Index(['Disposal Date', 'Visit Date', 'Age', 'Gender', 'Region', 'Subcity',\n",
            "       'ER Name', 'Triage color', 'Visit type',\n",
            "       'Arrival Diagnosis (ESV-ICD-11)', 'Waiting Time', 'Disposal Outcome'],\n",
            "      dtype='object')\n"
          ]
        }
      ]
    },
    {
      "cell_type": "code",
      "source": [
        "# 4. Dataframe information\n",
        "data.info()"
      ],
      "metadata": {
        "colab": {
          "base_uri": "https://localhost:8080/"
        },
        "id": "xCbJGgjX8Be8",
        "outputId": "600833b4-227c-4a66-8f58-735d89c43b8a"
      },
      "id": "xCbJGgjX8Be8",
      "execution_count": 29,
      "outputs": [
        {
          "output_type": "stream",
          "name": "stdout",
          "text": [
            "<class 'pandas.core.frame.DataFrame'>\n",
            "Index: 6044 entries, 0 to 6061\n",
            "Data columns (total 12 columns):\n",
            " #   Column                          Non-Null Count  Dtype         \n",
            "---  ------                          --------------  -----         \n",
            " 0   Disposal Date                   5913 non-null   datetime64[ns]\n",
            " 1   Visit Date                      5911 non-null   datetime64[ns]\n",
            " 2   Age                             6032 non-null   object        \n",
            " 3   Gender                          6044 non-null   object        \n",
            " 4   Region                          6044 non-null   object        \n",
            " 5   Subcity                         6044 non-null   object        \n",
            " 6   ER Name                         6044 non-null   object        \n",
            " 7   Triage color                    4019 non-null   object        \n",
            " 8   Visit type                      6044 non-null   object        \n",
            " 9   Arrival Diagnosis (ESV-ICD-11)  6044 non-null   object        \n",
            " 10  Waiting Time                    6044 non-null   object        \n",
            " 11  Disposal Outcome                43 non-null     object        \n",
            "dtypes: datetime64[ns](2), object(10)\n",
            "memory usage: 613.8+ KB\n"
          ]
        }
      ]
    },
    {
      "cell_type": "code",
      "source": [
        "# 5. Convert date columns to datetime format\n",
        "data['Disposal Date'] = pd.to_datetime(data['Disposal Date'],format='%d-%m-%Y %I:%M %p', errors='coerce')\n",
        "data['Visit Date'] = pd.to_datetime(data['Visit Date'],format='%d-%m-%Y %I:%M %p', errors='coerce')"
      ],
      "metadata": {
        "id": "dtHlzhNpPdRT"
      },
      "id": "dtHlzhNpPdRT",
      "execution_count": 30,
      "outputs": []
    },
    {
      "cell_type": "code",
      "source": [
        "# 6. Clean and convert the Age column\n",
        "data['Age'] = data['Age'].str.extract('(\\d+)').astype(float)"
      ],
      "metadata": {
        "id": "xJ_qrbtZDwg-"
      },
      "id": "xJ_qrbtZDwg-",
      "execution_count": 31,
      "outputs": []
    },
    {
      "cell_type": "code",
      "source": [
        "# 7. Standardize Gender column\n",
        "data['Gender'] = data['Gender'].str.strip().str.capitalize()"
      ],
      "metadata": {
        "id": "Qrgi-Mp1EecE"
      },
      "id": "Qrgi-Mp1EecE",
      "execution_count": 32,
      "outputs": []
    },
    {
      "cell_type": "code",
      "source": [
        "# 8. Convert Waiting Time to numerical format\n",
        "data['Waiting Time (Minutes)'] = data['Waiting Time'].str.extract('(\\d+)').astype(float)"
      ],
      "metadata": {
        "id": "x9Mt8aP_ErsL"
      },
      "id": "x9Mt8aP_ErsL",
      "execution_count": 33,
      "outputs": []
    },
    {
      "cell_type": "code",
      "source": [
        "# 9. Dataframe information after cleaning and converting (As there is no 13th month in gregorian calander, disposal date and visit date contained NaT)\n",
        "data.info()"
      ],
      "metadata": {
        "id": "ydupx-FVqvQO",
        "outputId": "3a32147b-d149-49ac-e941-05980fd50718",
        "colab": {
          "base_uri": "https://localhost:8080/"
        }
      },
      "id": "ydupx-FVqvQO",
      "execution_count": 34,
      "outputs": [
        {
          "output_type": "stream",
          "name": "stdout",
          "text": [
            "<class 'pandas.core.frame.DataFrame'>\n",
            "Index: 6044 entries, 0 to 6061\n",
            "Data columns (total 13 columns):\n",
            " #   Column                          Non-Null Count  Dtype         \n",
            "---  ------                          --------------  -----         \n",
            " 0   Disposal Date                   5913 non-null   datetime64[ns]\n",
            " 1   Visit Date                      5911 non-null   datetime64[ns]\n",
            " 2   Age                             6032 non-null   float64       \n",
            " 3   Gender                          6044 non-null   object        \n",
            " 4   Region                          6044 non-null   object        \n",
            " 5   Subcity                         6044 non-null   object        \n",
            " 6   ER Name                         6044 non-null   object        \n",
            " 7   Triage color                    4019 non-null   object        \n",
            " 8   Visit type                      6044 non-null   object        \n",
            " 9   Arrival Diagnosis (ESV-ICD-11)  6044 non-null   object        \n",
            " 10  Waiting Time                    6044 non-null   object        \n",
            " 11  Disposal Outcome                43 non-null     object        \n",
            " 12  Waiting Time (Minutes)          6044 non-null   float64       \n",
            "dtypes: datetime64[ns](2), float64(2), object(9)\n",
            "memory usage: 661.1+ KB\n"
          ]
        }
      ]
    },
    {
      "cell_type": "code",
      "source": [
        "# 10. Visualize missing values\n",
        "plt.figure(figsize=(10, 6))\n",
        "sns.heatmap(data.isnull(), cbar=False, cmap='viridis')\n",
        "plt.title('Missing Values Heatmap')\n",
        "plt.show()"
      ],
      "metadata": {
        "colab": {
          "base_uri": "https://localhost:8080/",
          "height": 741
        },
        "id": "_4KE8e3lKCLw",
        "outputId": "cf33e999-8700-4b76-93ec-49217c7e52e1"
      },
      "id": "_4KE8e3lKCLw",
      "execution_count": 35,
      "outputs": [
        {
          "output_type": "display_data",
          "data": {
            "text/plain": [
              "<Figure size 1000x600 with 1 Axes>"
            ],
            "image/png": "[encoded data removed]"
          },
          "metadata": {}
        }
      ]
    },
    {
      "cell_type": "code",
      "source": [
        "# 10. Handle missing values\n",
        "# Filling missing triage colors with 'NA' because Pediatric wards do not have triage color\n",
        "data['Triage color'] = data['Triage color'].fillna('NA')"
      ],
      "metadata": {
        "id": "tDr1dfB0E1qx"
      },
      "id": "tDr1dfB0E1qx",
      "execution_count": 36,
      "outputs": []
    },
    {
      "cell_type": "code",
      "source": [
        "# 11. Fill missing numerical columns with median values\n",
        "data['Age'] = data['Age'].fillna(data['Age'].median())"
      ],
      "metadata": {
        "id": "cGHnoa7qFb8l"
      },
      "id": "cGHnoa7qFb8l",
      "execution_count": 37,
      "outputs": []
    },
    {
      "cell_type": "code",
      "source": [
        "# 12. Filling Missing Disposal Outcome catagory with 'Improved' as there are only two catagories and only 'Dead' value is recorded in the hospital setup\n",
        "data['Disposal Outcome'] = data['Disposal Outcome'].fillna('Improved')"
      ],
      "metadata": {
        "id": "HDnzA3qa0ZJv"
      },
      "id": "HDnzA3qa0ZJv",
      "execution_count": null,
      "outputs": []
    },
    {
      "cell_type": "code",
      "source": [
        "# 13. Feature Engineering\n",
        "# Calculate Length of Stay (LOS) if possible\n",
        "data['Discharge Date'] = pd.to_datetime(data['Discharge Date'], errors='coerce')\n",
        "data['LOS (Hours)'] = (data['Discharge Date'] - data['Visit Date']).dt.total_seconds() / 3600"
      ],
      "metadata": {
        "id": "3cODR7b2NbV3"
      },
      "id": "3cODR7b2NbV3",
      "execution_count": null,
      "outputs": []
    },
    {
      "cell_type": "code",
      "source": [
        "# 14. Standardize categorical columns (if applicable)\n",
        "categorical_columns = ['Region', 'Subcity', 'ER Name', 'Visit type', 'Triage color']\n",
        "for col in categorical_columns:\n",
        "    data[col] = data[col].str.strip().str.title()"
      ],
      "metadata": {
        "id": "_8w4y3NvGES-"
      },
      "id": "_8w4y3NvGES-",
      "execution_count": null,
      "outputs": []
    },
    {
      "cell_type": "code",
      "source": [
        "# 15. Summary Statistics\n",
        "print(\"\\nSummary Statistics:\\n\", data.describe(include='all'))"
      ],
      "metadata": {
        "id": "-3iXpESTJ6T2"
      },
      "id": "-3iXpESTJ6T2",
      "execution_count": null,
      "outputs": []
    },
    {
      "cell_type": "code",
      "source": [
        "# 16. Unique Values Per Column\n",
        "unique_values = {col: data[col].nunique() for col in data.columns}\n",
        "print(\"\\nUnique Values Per Column:\\n\", unique_values)"
      ],
      "metadata": {
        "id": "hp8-DvcJLAb1"
      },
      "id": "hp8-DvcJLAb1",
      "execution_count": null,
      "outputs": []
    },
    {
      "cell_type": "code",
      "source": [
        "# 17. Categorical Columns Exploration\n",
        "categorical_columns = ['Gender', 'Region', 'Subcity', 'ER Name', 'Triage color', 'Visit type']\n",
        "for col in categorical_columns:\n",
        "    if col in data.columns:\n",
        "        print(f\"\\nValue Counts for {col}:\\n\", data[col].value_counts())\n",
        "\n",
        "        # Bar plot for categorical data\n",
        "        plt.figure(figsize=(8, 4))\n",
        "        sns.countplot(data=data, x=col, order=data[col].value_counts().index, palette='viridis')\n",
        "        plt.title(f'{col} Distribution')\n",
        "        plt.xticks(rotation=45)\n",
        "        plt.show()"
      ],
      "metadata": {
        "id": "nvjq-Hj5LpJH"
      },
      "id": "nvjq-Hj5LpJH",
      "execution_count": null,
      "outputs": []
    },
    {
      "cell_type": "code",
      "source": [
        "# 17. Numerical Columns Exploration\n",
        "numerical_columns = ['Age', 'Waiting Time (Minutes)', 'LOS']\n",
        "for col in numerical_columns:\n",
        "    if col in data.columns:\n",
        "        # Histogram for numerical data\n",
        "        plt.figure(figsize=(8, 4))\n",
        "        sns.histplot(data[col].dropna(), kde=True, bins=30, color='blue')\n",
        "        plt.title(f'{col} Distribution')\n",
        "        plt.xlabel(col)\n",
        "        plt.ylabel('Frequency')\n",
        "        plt.show()"
      ],
      "metadata": {
        "id": "JlnolyurMKgT"
      },
      "id": "JlnolyurMKgT",
      "execution_count": null,
      "outputs": []
    },
    {
      "cell_type": "code",
      "source": [
        "# 18. Correlation Analysis (for numerical columns)\n",
        "if numerical_columns:\n",
        "    plt.figure(figsize=(10, 6))\n",
        "    correlation_matrix = data[numerical_columns].corr()\n",
        "    sns.heatmap(correlation_matrix, annot=True, cmap='coolwarm', fmt='.2f')\n",
        "    plt.title('Correlation Matrix')\n",
        "    plt.show()\n",
        "\n",
        "print(\"Data exploration complete.\")"
      ],
      "metadata": {
        "id": "hmNRRpdwMXPC"
      },
      "id": "hmNRRpdwMXPC",
      "execution_count": null,
      "outputs": []
    },
    {
      "cell_type": "code",
      "source": [
        "# 19. Encode Disposal Outcome for modeling\n",
        "data['Disposal Outcome Encoded'] = data['Disposal Outcome'].astype('category').cat.codes"
      ],
      "metadata": {
        "id": "OFf0a5hMGNy4"
      },
      "id": "OFf0a5hMGNy4",
      "execution_count": null,
      "outputs": []
    },
    {
      "cell_type": "code",
      "source": [
        "# 20. Save the cleaned data to a new file\n",
        "data.to_excel('/mnt/data/cleaned_adult_ER_output.xlsx', index=False)\n",
        "\n",
        "print(\"Data preprocessing complete. Cleaned file saved as 'cleaned_adult_ER_output.xlsx'.\")"
      ],
      "metadata": {
        "id": "-WiXGSsbGX_r"
      },
      "id": "-WiXGSsbGX_r",
      "execution_count": null,
      "outputs": []
    },
    {
      "cell_type": "code",
      "execution_count": null,
      "id": "ab43b568-c9d6-4b64-bbef-3df54301b8fe",
      "metadata": {
        "id": "ab43b568-c9d6-4b64-bbef-3df54301b8fe"
      },
      "outputs": [],
      "source": [
        "# 21. Exploratory Data Analysis (EDA)\n",
        "# Relationship between Disposal Outcome and Waiting Time\n",
        "plt.figure(figsize=(10, 6))\n",
        "sns.boxplot(data=data, x='Disposal Outcome', y='Waiting Time (Minutes)', palette='viridis')\n",
        "plt.title('Waiting Time Distribution by Disposal Outcome')\n",
        "plt.xticks(rotation=45)\n",
        "plt.show()\n"
      ]
    },
    {
      "cell_type": "code",
      "execution_count": null,
      "id": "6b9a72e6-88bc-4272-8a38-6188570dedcc",
      "metadata": {
        "id": "6b9a72e6-88bc-4272-8a38-6188570dedcc"
      },
      "outputs": [],
      "source": [
        "# 22. Prepare data for modeling\n",
        "# Features and target\n",
        "X = data[['Disposal Outcome Encoded', 'Age', 'LOS (Hours)']]\n",
        "y = data['Waiting Time (Minutes)']\n",
        "\n",
        "# Handle missing values in features\n",
        "X = X.fillna(X.median())\n",
        "y = y.fillna(y.median())\n",
        "\n",
        "# Split the dataset into training and testing sets\n",
        "X_train, X_test, y_train, y_test = train_test_split(X, y, test_size=0.2, random_state=42)\n"
      ]
    },
    {
      "cell_type": "code",
      "source": [
        "import pandas as pd\n",
        "import matplotlib.pyplot as plt\n",
        "import seaborn as sns\n",
        "from sklearn.model_selection import train_test_split\n",
        "from sklearn.ensemble import RandomForestRegressor\n",
        "from sklearn.metrics import mean_absolute_error, mean_squared_error, r2_score\n",
        "\n",
        "# Load the preprocessed dataset\n",
        "data = pd.read_excel('/mnt/data/cleaned_adult_ER_output.xlsx')\n",
        "\n",
        "# 1. Exploratory Data Analysis (EDA)\n",
        "# Relationship between Disposal Outcome and Waiting Time\n",
        "plt.figure(figsize=(10, 6))\n",
        "sns.boxplot(data=data, x='Disposal Outcome', y='Waiting Time (Minutes)', palette='viridis')\n",
        "plt.title('Waiting Time Distribution by Disposal Outcome')\n",
        "plt.xticks(rotation=45)\n",
        "plt.show()\n",
        "\n",
        "# 2. Prepare data for modeling\n",
        "# Features and target\n",
        "X = data[['Disposal Outcome Encoded', 'Age', 'LOS (Hours)']]\n",
        "y = data['Waiting Time (Minutes)']\n",
        "\n",
        "# Handle missing values in features (if any)\n",
        "X = X.fillna(X.median())\n",
        "y = y.fillna(y.median())\n",
        "\n",
        "# Split the dataset into training and testing sets\n",
        "X_train, X_test, y_train, y_test = train_test_split(X, y, test_size=0.2, random_state=42)\n",
        "\n",
        "# 3. Train a Random Forest Regressor\n",
        "model = RandomForestRegressor(random_state=42, n_estimators=100)\n",
        "model.fit(X_train, y_train)\n",
        "\n",
        "# 4. Evaluate the model\n",
        "# Predictions\n",
        "y_pred = model.predict(X_test)\n",
        "\n",
        "# Metrics\n",
        "mae = mean_absolute_error(y_test, y_pred)\n",
        "mse = mean_squared_error(y_test, y_pred)\n",
        "r2 = r2_score(y_test, y_pred)\n",
        "\n",
        "print(f\"Mean Absolute Error (MAE): {mae:.2f}\")\n",
        "print(f\"Mean Squared Error (MSE): {mse:.2f}\")\n",
        "print(f\"R-squared (R2): {r2:.2f}\")\n",
        "\n",
        "# 5. Feature Importance\n",
        "importances = model.feature_importances_\n",
        "feature_names = X.columns\n",
        "\n",
        "plt.figure(figsize=(8, 6))\n",
        "sns.barplot(x=importances, y=feature_names, palette='viridis')\n",
        "plt.title('Feature Importance')\n",
        "plt.xlabel('Importance')\n",
        "plt.ylabel('Features')\n",
        "plt.show()\n",
        "\n",
        "print(\"Analysis complete. Model trained and evaluated.\")\n"
      ],
      "metadata": {
        "id": "VtGsok7fChc5"
      },
      "id": "VtGsok7fChc5",
      "execution_count": null,
      "outputs": []
    }
  ],
  "metadata": {
    "kernelspec": {
      "display_name": "Python 3 (ipykernel)",
      "language": "python",
      "name": "python3"
    },
    "language_info": {
      "codemirror_mode": {
        "name": "ipython",
        "version": 3
      },
      "file_extension": ".py",
      "mimetype": "text/x-python",
      "name": "python",
      "nbconvert_exporter": "python",
      "pygments_lexer": "ipython3",
      "version": "3.12.7"
    },
    "colab": {
      "provenance": []
    }
  },
  "nbformat": 4,
  "nbformat_minor": 5
}