{
 "cells": [
  {
   "cell_type": "code",
   "execution_count": 1,
   "id": "1d45a072-c930-404c-9e0f-fbd8588034e1",
   "metadata": {},
   "outputs": [
    {
     "name": "stdout",
     "output_type": "stream",
     "text": [
      "hello world\n"
     ]
    }
   ],
   "source": [
    "print('hello world')"
   ]
  },
  {
   "cell_type": "code",
   "execution_count": 3,
   "id": "9da75b33-1e76-419b-8907-67484ec50623",
   "metadata": {},
   "outputs": [],
   "source": [
    "sum = 3+4"
   ]
  },
  {
   "cell_type": "code",
   "execution_count": 5,
   "id": "4e6733a8-7f5f-4698-82c7-461330a6a9a5",
   "metadata": {},
   "outputs": [
    {
     "name": "stdout",
     "output_type": "stream",
     "text": [
      "7\n"
     ]
    }
   ],
   "source": [
    "print(sum)"
   ]
  },
  {
   "cell_type": "code",
   "execution_count": null,
   "id": "bdee9d88-6b53-4b96-9864-51dc15f14308",
   "metadata": {},
   "outputs": [],
   "source": [
    "print(\"dani man\")"
   ]
  }
 ],
 "metadata": {
  "kernelspec": {
   "display_name": "Python 3 (ipykernel)",
   "language": "python",
   "name": "python3"
  },
  "language_info": {
   "codemirror_mode": {
    "name": "ipython",
    "version": 3
   },
   "file_extension": ".py",
   "mimetype": "text/x-python",
   "name": "python",
   "nbconvert_exporter": "python",
   "pygments_lexer": "ipython3",
   "version": "3.12.7"
  }
 },
 "nbformat": 4,
 "nbformat_minor": 5
}
