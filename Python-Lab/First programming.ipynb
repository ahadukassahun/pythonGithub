{
 "cells": [
  {
   "cell_type": "code",
   "execution_count": 3,
   "id": "b2b07de7-3446-4370-86f4-68d82530a423",
   "metadata": {},
   "outputs": [
    {
     "name": "stdin",
     "output_type": "stream",
     "text": [
      "Enter the First number 12\n",
      "Enter the Second number 15\n"
     ]
    },
    {
     "name": "stdout",
     "output_type": "stream",
     "text": [
      "27\n"
     ]
    }
   ],
   "source": [
    "x=input(\"Enter the First number\")\n",
    "y=input(\"Enter the Second number\")\n",
    "sum=int(x)+int(y)\n",
    "print(sum)"
   ]
  },
  {
   "cell_type": "code",
   "execution_count": null,
   "id": "20283e3a-b691-4854-aa53-6549b218d675",
   "metadata": {},
   "outputs": [],
   "source": [
    "name=input(\"enter your name\")\n",
    "fname=input(\"enter your fname\")\n",
    "temp=float(input(\"enter pt temperature\"))\n",
    "print(\"name\",name)\n",
    "print(\"temp\",temp)\n",
    "if temp>37 and temp<=54:\n",
    "    print(\"you have high Fever\")\n",
    "if temp>=55 and temp<=64:\n",
    "    print(\"alert to hypertension\")\n",
    "if temp>=65:\n",
    "    print(\"see ur doctor\")\n",
    "else:\n",
    "    print(\"your temperature is normal\")"
   ]
  },
  {
   "cell_type": "code",
   "execution_count": 1,
   "id": "eee2e3e4-585d-45f5-a065-e7ac6627de70",
   "metadata": {},
   "outputs": [
    {
     "name": "stdin",
     "output_type": "stream",
     "text": [
      "Enter your Age 12\n"
     ]
    },
    {
     "name": "stdout",
     "output_type": "stream",
     "text": [
      "You are not eligible\n"
     ]
    }
   ],
   "source": [
    "#if elif\n",
    "age=int(input(\"Enter your Age\"))\n",
    "if age>=18:\n",
    "    print(\"You are eligible to apply\")\n",
    "else:\n",
    "    print(\"You are not eligible\")"
   ]
  },
  {
   "cell_type": "code",
   "execution_count": 10,
   "id": "38a34c2a-7044-4020-b852-61283e0cabaa",
   "metadata": {},
   "outputs": [],
   "source": [
    "class Student:\n",
    "    def _init_(self,name,dep):\n",
    "        self.name=name\n",
    "        self.dep=dep\n",
    "    def disp_info(self):\n",
    "        print(\"Hello\"+ self.name,+\"Your department is\"+ self.dep)"
   ]
  },
  {
   "cell_type": "code",
   "execution_count": null,
   "id": "e0721552-3c1c-47be-b0e6-2421d82e1c50",
   "metadata": {},
   "outputs": [],
   "source": []
  },
  {
   "cell_type": "code",
   "execution_count": null,
   "id": "1229c443-10d3-4503-b691-50d1adf8cf2d",
   "metadata": {},
   "outputs": [],
   "source": []
  }
 ],
 "metadata": {
  "kernelspec": {
   "display_name": "Python 3 (ipykernel)",
   "language": "python",
   "name": "python3"
  },
  "language_info": {
   "codemirror_mode": {
    "name": "ipython",
    "version": 3
   },
   "file_extension": ".py",
   "mimetype": "text/x-python",
   "name": "python",
   "nbconvert_exporter": "python",
   "pygments_lexer": "ipython3",
   "version": "3.12.7"
  }
 },
 "nbformat": 4,
 "nbformat_minor": 5
}
